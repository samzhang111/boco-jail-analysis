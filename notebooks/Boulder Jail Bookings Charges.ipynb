{
 "cells": [
  {
   "cell_type": "markdown",
   "metadata": {},
   "source": [
    "# Boulder jail bookings charges\n",
    "\n",
    "In this notebook we'll look specifically at the \"charges\" column in the dataframe, and try to parse it out."
   ]
  },
  {
   "cell_type": "code",
   "execution_count": 1,
   "metadata": {
    "collapsed": false
   },
   "outputs": [],
   "source": [
    "import pandas as pd\n",
    "\n",
    "df = pd.read_csv('../data/all-bookings.csv')"
   ]
  },
  {
   "cell_type": "code",
   "execution_count": 2,
   "metadata": {
    "collapsed": false
   },
   "outputs": [
    {
     "data": {
      "text/html": [
       "<div>\n",
       "<style>\n",
       "    .dataframe thead tr:only-child th {\n",
       "        text-align: right;\n",
       "    }\n",
       "\n",
       "    .dataframe thead th {\n",
       "        text-align: left;\n",
       "    }\n",
       "\n",
       "    .dataframe tbody tr th {\n",
       "        vertical-align: top;\n",
       "    }\n",
       "</style>\n",
       "<table border=\"1\" class=\"dataframe\">\n",
       "  <thead>\n",
       "    <tr style=\"text-align: right;\">\n",
       "      <th></th>\n",
       "      <th>Name</th>\n",
       "      <th>Booking No</th>\n",
       "      <th>Booked</th>\n",
       "      <th>Location</th>\n",
       "      <th>DOB</th>\n",
       "      <th>Race</th>\n",
       "      <th>Sex</th>\n",
       "      <th>Case No</th>\n",
       "      <th>Arresting Agency</th>\n",
       "      <th>Charge</th>\n",
       "      <th>Arrest Date</th>\n",
       "    </tr>\n",
       "  </thead>\n",
       "  <tbody>\n",
       "    <tr>\n",
       "      <th>0</th>\n",
       "      <td>ARELLANO-ORDAZ,SIMON</td>\n",
       "      <td>1106625</td>\n",
       "      <td>2011-08-09 22:20:00</td>\n",
       "      <td>BJ INW</td>\n",
       "      <td>1988-04-10</td>\n",
       "      <td>W</td>\n",
       "      <td>M</td>\n",
       "      <td>110010043</td>\n",
       "      <td>BOULDER PD</td>\n",
       "      <td>18-18-405(2)(A)(I). SALE/MFG/DIST/CONT S</td>\n",
       "      <td>2011-08-09</td>\n",
       "    </tr>\n",
       "    <tr>\n",
       "      <th>1</th>\n",
       "      <td>ARELLANO-ORDAZ,SIMON</td>\n",
       "      <td>1106625</td>\n",
       "      <td>2011-08-09 22:20:00</td>\n",
       "      <td>BJ INW</td>\n",
       "      <td>1988-04-10</td>\n",
       "      <td>W</td>\n",
       "      <td>M</td>\n",
       "      <td>110010043</td>\n",
       "      <td>BOULDER PD</td>\n",
       "      <td>18-6-401(7)(B)(I) CHILD ABUSE</td>\n",
       "      <td>2011-08-09</td>\n",
       "    </tr>\n",
       "    <tr>\n",
       "      <th>2</th>\n",
       "      <td>ARELLANO-ORDAZ,SIMON</td>\n",
       "      <td>1106625</td>\n",
       "      <td>2011-08-09 22:20:00</td>\n",
       "      <td>BJ INW</td>\n",
       "      <td>1988-04-10</td>\n",
       "      <td>W</td>\n",
       "      <td>M</td>\n",
       "      <td>110010043</td>\n",
       "      <td>BOULDER PD</td>\n",
       "      <td>42-2-101(1) DRIVING WITHOUT A VA</td>\n",
       "      <td>2011-08-09</td>\n",
       "    </tr>\n",
       "    <tr>\n",
       "      <th>3</th>\n",
       "      <td>ARELLANO-ORDAZ,SIMON</td>\n",
       "      <td>1106625</td>\n",
       "      <td>2011-08-09 22:20:00</td>\n",
       "      <td>BJ INW</td>\n",
       "      <td>1988-04-10</td>\n",
       "      <td>W</td>\n",
       "      <td>M</td>\n",
       "      <td>110010043</td>\n",
       "      <td>BOULDER PD</td>\n",
       "      <td>42-4-203 DROVE DEFECTIVE/UNSA</td>\n",
       "      <td>2011-08-09</td>\n",
       "    </tr>\n",
       "    <tr>\n",
       "      <th>4</th>\n",
       "      <td>BECK,WILLIAM FRANCIS</td>\n",
       "      <td>1106627</td>\n",
       "      <td>2011-08-09 23:51:00</td>\n",
       "      <td>BJ BOK</td>\n",
       "      <td>1948-09-21</td>\n",
       "      <td>W</td>\n",
       "      <td>M</td>\n",
       "      <td>11-1746</td>\n",
       "      <td>UNIVERSITY OF COLORADO</td>\n",
       "      <td>BOULDER MUNI FTA:IMPROP CARE ANAM</td>\n",
       "      <td>2011-08-09</td>\n",
       "    </tr>\n",
       "  </tbody>\n",
       "</table>\n",
       "</div>"
      ],
      "text/plain": [
       "                   Name  Booking No               Booked Location         DOB  \\\n",
       "0  ARELLANO-ORDAZ,SIMON     1106625  2011-08-09 22:20:00   BJ INW  1988-04-10   \n",
       "1  ARELLANO-ORDAZ,SIMON     1106625  2011-08-09 22:20:00   BJ INW  1988-04-10   \n",
       "2  ARELLANO-ORDAZ,SIMON     1106625  2011-08-09 22:20:00   BJ INW  1988-04-10   \n",
       "3  ARELLANO-ORDAZ,SIMON     1106625  2011-08-09 22:20:00   BJ INW  1988-04-10   \n",
       "4  BECK,WILLIAM FRANCIS     1106627  2011-08-09 23:51:00   BJ BOK  1948-09-21   \n",
       "\n",
       "  Race Sex    Case No        Arresting Agency  \\\n",
       "0    W   M  110010043              BOULDER PD   \n",
       "1    W   M  110010043              BOULDER PD   \n",
       "2    W   M  110010043              BOULDER PD   \n",
       "3    W   M  110010043              BOULDER PD   \n",
       "4    W   M    11-1746  UNIVERSITY OF COLORADO   \n",
       "\n",
       "                                     Charge Arrest Date  \n",
       "0  18-18-405(2)(A)(I). SALE/MFG/DIST/CONT S  2011-08-09  \n",
       "1             18-6-401(7)(B)(I) CHILD ABUSE  2011-08-09  \n",
       "2          42-2-101(1) DRIVING WITHOUT A VA  2011-08-09  \n",
       "3             42-4-203 DROVE DEFECTIVE/UNSA  2011-08-09  \n",
       "4         BOULDER MUNI FTA:IMPROP CARE ANAM  2011-08-09  "
      ]
     },
     "execution_count": 2,
     "metadata": {},
     "output_type": "execute_result"
    }
   ],
   "source": [
    "df.head()"
   ]
  },
  {
   "cell_type": "code",
   "execution_count": 5,
   "metadata": {
    "collapsed": false
   },
   "outputs": [
    {
     "name": "stdout",
     "output_type": "stream",
     "text": [
      "Out of the 434423 rows, there are 57203 unique charges.\n",
      "\n",
      "The most common charges are:\n",
      "42-4-1301(1)(A) DUI                   21779\n",
      "42-4-1301(2)(A) DUI PER SE            12344\n",
      "42  4    1301 DUI                     12238\n",
      "18-3-204 THIRD DEGREE ASSAULT          9765\n",
      "18-9-111 HARASSMENT                    8250\n",
      "Name: Charge, dtype: int64\n",
      "\n"
     ]
    }
   ],
   "source": [
    "print('''Out of the {} rows, there are {} unique charges.\n",
    "\n",
    "The most common charges are:\n",
    "{}\n",
    "'''.format(df.shape[0], df.Charge.nunique(), df.Charge.value_counts().head()))"
   ]
  },
  {
   "cell_type": "markdown",
   "metadata": {},
   "source": [
    "Based off how DUI shows up twice, I wonder whether there are department-level standards for filling in the charges."
   ]
  },
  {
   "cell_type": "code",
   "execution_count": 65,
   "metadata": {
    "collapsed": false
   },
   "outputs": [],
   "source": [
    "df['date'] = pd.to_datetime(df['Arrest Date'])\n",
    "df['year'] = df['date'].apply(lambda x: x.year)"
   ]
  },
  {
   "cell_type": "code",
   "execution_count": 6,
   "metadata": {
    "collapsed": false
   },
   "outputs": [
    {
     "data": {
      "text/plain": [
       "BOULDER COUNTY SHERIFFS OFFICE    152564\n",
       "BOULDER PD                        118867\n",
       "LONGMONT PD                        87293\n",
       "LAFAYETTE PD                       25000\n",
       "JAIL MITTS ONLY                    14828\n",
       "UNIVERSITY OF COLORADO             12026\n",
       "COLORADO STATE PATROL               9420\n",
       "LOUISVILLE PD                       7843\n",
       "ERIE PD                             2091\n",
       "NEDERLAND MARSHALS OFFICE           1470\n",
       "PAROLE                              1279\n",
       "BOULDER COUNTY DRUG TASK FORCE      1214\n",
       "OTHER                                288\n",
       "DISTRICT ATTORNEYS OFFICE            122\n",
       "STATE DIVISION OF WILDLIFE            82\n",
       "WARD MARSHALS OFFICE                  24\n",
       "COMMUNITY CORRECTIONS                 12\n",
       "Name: Arresting Agency, dtype: int64"
      ]
     },
     "execution_count": 6,
     "metadata": {},
     "output_type": "execute_result"
    }
   ],
   "source": [
    "df['Arresting Agency'].value_counts()"
   ]
  },
  {
   "cell_type": "code",
   "execution_count": 66,
   "metadata": {
    "collapsed": true
   },
   "outputs": [],
   "source": [
    "bcso_df = df[df['Arresting Agency'] == 'BOULDER COUNTY SHERIFFS OFFICE']\n",
    "bpd_df = df[df['Arresting Agency'] == 'BOULDER PD']\n",
    "longmont_pd = df[df['Arresting Agency'] == 'LONGMONT PD']"
   ]
  },
  {
   "cell_type": "code",
   "execution_count": 67,
   "metadata": {
    "collapsed": false
   },
   "outputs": [],
   "source": [
    "boulder_pds = ['BOULDER PD', 'UNIVERSITY OF COLORADO', 'OTHER', 'BOULDER COUNTY SHERIFFS OFFICE']\n",
    "\n",
    "boulder_df = df[df['Arresting Agency'].isin(boulder_pds)]"
   ]
  },
  {
   "cell_type": "code",
   "execution_count": 68,
   "metadata": {
    "collapsed": false
   },
   "outputs": [
    {
     "data": {
      "text/plain": [
       "469"
      ]
     },
     "execution_count": 68,
     "metadata": {},
     "output_type": "execute_result"
    }
   ],
   "source": [
    "boulder_df[boulder_df['Arresting Agency'] == 'BOULDER COUNTY SHERIFFS OFFICE'].camping.sum()"
   ]
  },
  {
   "cell_type": "code",
   "execution_count": 69,
   "metadata": {
    "collapsed": false
   },
   "outputs": [
    {
     "data": {
      "text/plain": [
       "(120858, 52682)"
      ]
     },
     "execution_count": 69,
     "metadata": {},
     "output_type": "execute_result"
    }
   ],
   "source": [
    "boulder_by_person = boulder_df.groupby('Booking No').first()\n",
    "boulder_by_person['num_charges'] = boulder_df.groupby('Booking No').Name.count()\n",
    "\n",
    "boulder_by_person.shape[0], (boulder_by_person['num_charges'] == 1).sum()"
   ]
  },
  {
   "cell_type": "code",
   "execution_count": null,
   "metadata": {
    "collapsed": true
   },
   "outputs": [],
   "source": [
    "boulder_df[boulder_df['Arresting Agency'] == 'BOULDER COUNTY SHERIFFS OFFICE']"
   ]
  },
  {
   "cell_type": "code",
   "execution_count": 70,
   "metadata": {
    "collapsed": false
   },
   "outputs": [
    {
     "data": {
      "text/plain": [
       "443"
      ]
     },
     "execution_count": 70,
     "metadata": {},
     "output_type": "execute_result"
    }
   ],
   "source": [
    "boulder_by_person[(boulder_by_person['num_charges'] == 1) & (boulder_by_person.year >= 2009)].camping.sum()"
   ]
  },
  {
   "cell_type": "code",
   "execution_count": 60,
   "metadata": {
    "collapsed": false
   },
   "outputs": [
    {
     "data": {
      "text/plain": [
       "year\n",
       "1921     0.0\n",
       "1929     0.0\n",
       "1940     0.0\n",
       "1982     0.0\n",
       "1984     0.0\n",
       "1985     0.0\n",
       "1990     0.0\n",
       "1991     0.0\n",
       "1992     0.0\n",
       "1993     0.0\n",
       "1994     0.0\n",
       "1995     0.0\n",
       "1996     0.0\n",
       "1997     0.0\n",
       "1998     0.0\n",
       "1999     0.0\n",
       "2000    11.0\n",
       "2001     8.0\n",
       "2002    10.0\n",
       "2003     4.0\n",
       "2004    15.0\n",
       "2005     9.0\n",
       "2006    27.0\n",
       "2007    36.0\n",
       "2008    33.0\n",
       "2009    33.0\n",
       "2010    34.0\n",
       "2011    34.0\n",
       "2012    23.0\n",
       "2013     8.0\n",
       "2014     7.0\n",
       "2015     4.0\n",
       "2016     5.0\n",
       "2017     1.0\n",
       "Name: camping, dtype: float64"
      ]
     },
     "execution_count": 60,
     "metadata": {},
     "output_type": "execute_result"
    }
   ],
   "source": [
    "boulder_by_person[(boulder_by_person['num_charges'] == 1) & (~boulder_by_person.fta)].groupby('year').camping.sum()"
   ]
  },
  {
   "cell_type": "code",
   "execution_count": 14,
   "metadata": {
    "collapsed": false
   },
   "outputs": [
    {
     "name": "stdout",
     "output_type": "stream",
     "text": [
      "Top charges from\n",
      "\n",
      "Boulder County Sheriff's Office:\n",
      "42-4-1301(1)(A) DUI                   7052\n",
      "42  4    1301 DUI                     4976\n",
      "42-4-1301(2)(A) DUI PER SE            3810\n",
      "42-4-1301(1)(B) DWAI                  3622\n",
      "16-19-111 WRIT OF HABEAS CORPU        3406\n",
      "Name: Charge, dtype: int64\n",
      "\n",
      "Boulder PD\n",
      "42-4-1301(1)(A) DUI                   9013\n",
      "42-4-1301(2)(A) DUI PER SE            5743\n",
      "42  4    1301 DUI                     4459\n",
      "18-3-204 THIRD DEGREE ASSAULT         2523\n",
      "18-6-800.3 DOMESTIC VIOLENCE          2505\n",
      "Name: Charge, dtype: int64\n",
      "\n",
      "Longmont PD\n",
      "18-3-204 THIRD DEGREE ASSAULT            2806\n",
      "18-6-801 DOMESTIC VIOLENCE               2245\n",
      "18-6-800.3 DOMESTIC VIOLENCE             2147\n",
      "42-4-1301(1)(A) DUI                      2125\n",
      "18-6-803.5(2)(A) VIOLATION OF A RESTR    2075\n",
      "Name: Charge, dtype: int64\n"
     ]
    }
   ],
   "source": [
    "print('''Top charges from\n",
    "\n",
    "Boulder County Sheriff's Office:\n",
    "{}\n",
    "\n",
    "Boulder PD\n",
    "{}\n",
    "\n",
    "Longmont PD\n",
    "{}'''.format(\n",
    "        bcso_df.Charge.value_counts().head(),\n",
    "        bpd_df.Charge.value_counts().head(),\n",
    "        longmont_pd.Charge.value_counts().head(),\n",
    "    ))\n"
   ]
  },
  {
   "cell_type": "markdown",
   "metadata": {},
   "source": [
    "The top charges are actually rather consistent across all of the police departments, except DUI is sometimes written as `42-4-1301(1)(A) DUI` and sometimes as `42  4    1301 DUI`"
   ]
  },
  {
   "cell_type": "markdown",
   "metadata": {},
   "source": [
    "Stripping out all of the non-alphabetical text, what are the most common terms? Or vice versa, what are the most common sections of the code that are cited?"
   ]
  },
  {
   "cell_type": "code",
   "execution_count": 7,
   "metadata": {
    "collapsed": false
   },
   "outputs": [
    {
     "data": {
      "text/plain": [
       "0                 SALE/MFG/DIST/CONT S\n",
       "1                          CHILD ABUSE\n",
       "2                 DRIVING WITHOUT A VA\n",
       "3                 DROVE DEFECTIVE/UNSA\n",
       "4    BOULDER MUNI FTA:IMPROP CARE ANAM\n",
       "Name: Charge, dtype: object"
      ]
     },
     "execution_count": 7,
     "metadata": {},
     "output_type": "execute_result"
    }
   ],
   "source": [
    "import string\n",
    "\n",
    "all_caps = set(string.ascii_uppercase)\n",
    "def preserve_capitalized_characters(s):\n",
    "    for i, c in enumerate(s):\n",
    "        try:\n",
    "            if c in all_caps and s[i+1] in all_caps:\n",
    "                break\n",
    "        except IndexError:\n",
    "            break\n",
    "    \n",
    "    return s[i:].strip()\n",
    "\n",
    "df.Charge.head().apply(preserve_capitalized_characters)"
   ]
  },
  {
   "cell_type": "code",
   "execution_count": 8,
   "metadata": {
    "collapsed": true
   },
   "outputs": [],
   "source": [
    "df['charge_text'] = df.Charge.apply(preserve_capitalized_characters)"
   ]
  },
  {
   "cell_type": "code",
   "execution_count": 9,
   "metadata": {
    "collapsed": false
   },
   "outputs": [
    {
     "name": "stdout",
     "output_type": "stream",
     "text": [
      "The most common charge texts are:\n",
      "\n",
      "DUI                     35942\n",
      "DUI PER SE              12451\n",
      "DOMESTIC VIOLENCE       12265\n",
      "HARASSMENT              10748\n",
      "THIRD DEGREE ASSAULT     9785\n",
      "DROVE VEHICLE WHEN L     8311\n",
      "VIOLATION OF A RESTR     6904\n",
      "FAILED TO PRESENT EV     5600\n",
      "DWAI                     4989\n",
      "LANE USAGE VIOLATION     4866\n",
      "CARELESS DRIVING         4832\n",
      "DRUG PARAPHERNALIA-P     4308\n",
      "OBSTRUCTING A PEACE      4282\n",
      "COMPULSARY INSURANCE     3912\n",
      "THEFT                    3906\n",
      "WRIT OF HABEAS CORPU     3455\n",
      "TRESPASS FIRST DEGRE     3375\n",
      "FORGERY                  3173\n",
      "ARREST OF PROBATIONE     3047\n",
      "ASSAULT IN THE 3RD D     3012\n",
      "Name: charge_text, dtype: int64\n",
      "\n"
     ]
    }
   ],
   "source": [
    "print('''The most common charge texts are:\n",
    "\n",
    "{}\n",
    "'''.format(df.charge_text.value_counts().head(20)))"
   ]
  },
  {
   "cell_type": "code",
   "execution_count": 10,
   "metadata": {
    "collapsed": false
   },
   "outputs": [],
   "source": [
    "import re\n",
    "\n",
    "code_regex = re.compile(r'(\\d+)\\D+(\\d+)\\D+(\\d+)\\D+(\\d+?)?')\n",
    "def extract_legal_code(s):\n",
    "    match = code_regex.search(s)\n",
    "    if match:\n",
    "        return tuple([int(x) for x in match.groups() if x])\n",
    "\n",
    "df['legal_code_parts'] = df.Charge.apply(extract_legal_code)"
   ]
  },
  {
   "cell_type": "code",
   "execution_count": 11,
   "metadata": {
    "collapsed": false
   },
   "outputs": [
    {
     "name": "stdout",
     "output_type": "stream",
     "text": [
      "Out of 434423 bookings, there were 1213 identifiable legal codes. This accounted for 91.13 percent of the bookings.\n",
      "\n",
      "The most common parts of legal codes are:\n",
      "\n",
      "(42, 4, 1301, 1)    28346\n",
      "(42, 4, 1301)       17678\n",
      "(18, 1, 3, 7)       17031\n",
      "(16, 2, 110, 1)     15101\n",
      "(42, 4, 1301, 2)    12651\n",
      "(42, 2, 138)        12132\n",
      "(16, 2, 110, 2)     11768\n",
      "(18, 9, 111)        11251\n",
      "(18, 3, 204)         9880\n",
      "(18, 4, 401, 2)      9623\n",
      "(18, 6, 803, 5)      8920\n",
      "(18, 6, 800, 3)      7964\n",
      "(16, 11, 205)        7597\n",
      "(16, 2, 110)         7507\n",
      "(18, 18, 405, 2)     6655\n",
      "(42, 4, 1007)        6246\n",
      "(42, 4, 1409, 3)     5647\n",
      "(42, 4, 1402)        4847\n",
      "(16, 19, 111)        4553\n",
      "(18, 18, 428, 1)     4410\n",
      "Name: legal_code_parts, dtype: int64\n"
     ]
    }
   ],
   "source": [
    "print('''Out of {} bookings, there were {} identifiable legal codes. This accounted for {:.2f} percent of the bookings.\n",
    "\n",
    "The most common parts of legal codes are:\n",
    "\n",
    "{}'''.format(\n",
    "        df.shape[0],\n",
    "        len(df['legal_code_parts'].unique()),\n",
    "        df['legal_code_parts'].count() / df.shape[0] * 100,\n",
    "        df['legal_code_parts'].value_counts().head(20)\n",
    "    ))"
   ]
  },
  {
   "cell_type": "code",
   "execution_count": 70,
   "metadata": {
    "collapsed": false
   },
   "outputs": [],
   "source": [
    "df['legal_code_no_1'] = df['legal_code_parts'].str.get(0)\n",
    "df['legal_code_no_2'] = df['legal_code_parts'].str.get(1)\n",
    "df['legal_code_no_3'] = df['legal_code_parts'].str.get(2)\n",
    "df['legal_code_no_4'] = df['legal_code_parts'].str.get(3)"
   ]
  },
  {
   "cell_type": "code",
   "execution_count": 12,
   "metadata": {
    "collapsed": false
   },
   "outputs": [
    {
     "data": {
      "text/html": [
       "<div>\n",
       "<style>\n",
       "    .dataframe thead tr:only-child th {\n",
       "        text-align: right;\n",
       "    }\n",
       "\n",
       "    .dataframe thead th {\n",
       "        text-align: left;\n",
       "    }\n",
       "\n",
       "    .dataframe tbody tr th {\n",
       "        vertical-align: top;\n",
       "    }\n",
       "</style>\n",
       "<table border=\"1\" class=\"dataframe\">\n",
       "  <thead>\n",
       "    <tr style=\"text-align: right;\">\n",
       "      <th></th>\n",
       "      <th>Name</th>\n",
       "      <th>Booking No</th>\n",
       "      <th>Booked</th>\n",
       "      <th>Location</th>\n",
       "      <th>DOB</th>\n",
       "      <th>Race</th>\n",
       "      <th>Sex</th>\n",
       "      <th>Case No</th>\n",
       "      <th>Arresting Agency</th>\n",
       "      <th>Charge</th>\n",
       "      <th>Arrest Date</th>\n",
       "      <th>charge_text</th>\n",
       "      <th>legal_code_parts</th>\n",
       "    </tr>\n",
       "  </thead>\n",
       "  <tbody>\n",
       "    <tr>\n",
       "      <th>0</th>\n",
       "      <td>ARELLANO-ORDAZ,SIMON</td>\n",
       "      <td>1106625</td>\n",
       "      <td>2011-08-09 22:20:00</td>\n",
       "      <td>BJ INW</td>\n",
       "      <td>1988-04-10</td>\n",
       "      <td>W</td>\n",
       "      <td>M</td>\n",
       "      <td>110010043</td>\n",
       "      <td>BOULDER PD</td>\n",
       "      <td>18-18-405(2)(A)(I). SALE/MFG/DIST/CONT S</td>\n",
       "      <td>2011-08-09</td>\n",
       "      <td>SALE/MFG/DIST/CONT S</td>\n",
       "      <td>(18, 18, 405, 2)</td>\n",
       "    </tr>\n",
       "    <tr>\n",
       "      <th>1</th>\n",
       "      <td>ARELLANO-ORDAZ,SIMON</td>\n",
       "      <td>1106625</td>\n",
       "      <td>2011-08-09 22:20:00</td>\n",
       "      <td>BJ INW</td>\n",
       "      <td>1988-04-10</td>\n",
       "      <td>W</td>\n",
       "      <td>M</td>\n",
       "      <td>110010043</td>\n",
       "      <td>BOULDER PD</td>\n",
       "      <td>18-6-401(7)(B)(I) CHILD ABUSE</td>\n",
       "      <td>2011-08-09</td>\n",
       "      <td>CHILD ABUSE</td>\n",
       "      <td>(18, 6, 401, 7)</td>\n",
       "    </tr>\n",
       "    <tr>\n",
       "      <th>2</th>\n",
       "      <td>ARELLANO-ORDAZ,SIMON</td>\n",
       "      <td>1106625</td>\n",
       "      <td>2011-08-09 22:20:00</td>\n",
       "      <td>BJ INW</td>\n",
       "      <td>1988-04-10</td>\n",
       "      <td>W</td>\n",
       "      <td>M</td>\n",
       "      <td>110010043</td>\n",
       "      <td>BOULDER PD</td>\n",
       "      <td>42-2-101(1) DRIVING WITHOUT A VA</td>\n",
       "      <td>2011-08-09</td>\n",
       "      <td>DRIVING WITHOUT A VA</td>\n",
       "      <td>(42, 2, 101, 1)</td>\n",
       "    </tr>\n",
       "    <tr>\n",
       "      <th>3</th>\n",
       "      <td>ARELLANO-ORDAZ,SIMON</td>\n",
       "      <td>1106625</td>\n",
       "      <td>2011-08-09 22:20:00</td>\n",
       "      <td>BJ INW</td>\n",
       "      <td>1988-04-10</td>\n",
       "      <td>W</td>\n",
       "      <td>M</td>\n",
       "      <td>110010043</td>\n",
       "      <td>BOULDER PD</td>\n",
       "      <td>42-4-203 DROVE DEFECTIVE/UNSA</td>\n",
       "      <td>2011-08-09</td>\n",
       "      <td>DROVE DEFECTIVE/UNSA</td>\n",
       "      <td>(42, 4, 203)</td>\n",
       "    </tr>\n",
       "    <tr>\n",
       "      <th>4</th>\n",
       "      <td>BECK,WILLIAM FRANCIS</td>\n",
       "      <td>1106627</td>\n",
       "      <td>2011-08-09 23:51:00</td>\n",
       "      <td>BJ BOK</td>\n",
       "      <td>1948-09-21</td>\n",
       "      <td>W</td>\n",
       "      <td>M</td>\n",
       "      <td>11-1746</td>\n",
       "      <td>UNIVERSITY OF COLORADO</td>\n",
       "      <td>BOULDER MUNI FTA:IMPROP CARE ANAM</td>\n",
       "      <td>2011-08-09</td>\n",
       "      <td>BOULDER MUNI FTA:IMPROP CARE ANAM</td>\n",
       "      <td>None</td>\n",
       "    </tr>\n",
       "  </tbody>\n",
       "</table>\n",
       "</div>"
      ],
      "text/plain": [
       "                   Name  Booking No               Booked Location         DOB  \\\n",
       "0  ARELLANO-ORDAZ,SIMON     1106625  2011-08-09 22:20:00   BJ INW  1988-04-10   \n",
       "1  ARELLANO-ORDAZ,SIMON     1106625  2011-08-09 22:20:00   BJ INW  1988-04-10   \n",
       "2  ARELLANO-ORDAZ,SIMON     1106625  2011-08-09 22:20:00   BJ INW  1988-04-10   \n",
       "3  ARELLANO-ORDAZ,SIMON     1106625  2011-08-09 22:20:00   BJ INW  1988-04-10   \n",
       "4  BECK,WILLIAM FRANCIS     1106627  2011-08-09 23:51:00   BJ BOK  1948-09-21   \n",
       "\n",
       "  Race Sex    Case No        Arresting Agency  \\\n",
       "0    W   M  110010043              BOULDER PD   \n",
       "1    W   M  110010043              BOULDER PD   \n",
       "2    W   M  110010043              BOULDER PD   \n",
       "3    W   M  110010043              BOULDER PD   \n",
       "4    W   M    11-1746  UNIVERSITY OF COLORADO   \n",
       "\n",
       "                                     Charge Arrest Date  \\\n",
       "0  18-18-405(2)(A)(I). SALE/MFG/DIST/CONT S  2011-08-09   \n",
       "1             18-6-401(7)(B)(I) CHILD ABUSE  2011-08-09   \n",
       "2          42-2-101(1) DRIVING WITHOUT A VA  2011-08-09   \n",
       "3             42-4-203 DROVE DEFECTIVE/UNSA  2011-08-09   \n",
       "4         BOULDER MUNI FTA:IMPROP CARE ANAM  2011-08-09   \n",
       "\n",
       "                         charge_text  legal_code_parts  \n",
       "0               SALE/MFG/DIST/CONT S  (18, 18, 405, 2)  \n",
       "1                        CHILD ABUSE   (18, 6, 401, 7)  \n",
       "2               DRIVING WITHOUT A VA   (42, 2, 101, 1)  \n",
       "3               DROVE DEFECTIVE/UNSA      (42, 4, 203)  \n",
       "4  BOULDER MUNI FTA:IMPROP CARE ANAM              None  "
      ]
     },
     "execution_count": 12,
     "metadata": {},
     "output_type": "execute_result"
    }
   ],
   "source": [
    "df.head()"
   ]
  },
  {
   "cell_type": "code",
   "execution_count": 51,
   "metadata": {
    "collapsed": false
   },
   "outputs": [],
   "source": [
    "df['camping'] = df['charge_text'].str.contains('CAMP') | df['charge_text'].str.contains('5-6-10')"
   ]
  },
  {
   "cell_type": "code",
   "execution_count": 85,
   "metadata": {
    "collapsed": true
   },
   "outputs": [],
   "source": [
    "df['boulder_muni'] = df['charge_text'].str.contains('BOULDER MUNI')"
   ]
  },
  {
   "cell_type": "code",
   "execution_count": 14,
   "metadata": {
    "collapsed": true
   },
   "outputs": [],
   "source": [
    "df['fta'] = df['charge_text'].str.contains('FTA')\n",
    "df['ftc'] = df['charge_text'].str.contains('FTC')"
   ]
  },
  {
   "cell_type": "code",
   "execution_count": 86,
   "metadata": {
    "collapsed": false
   },
   "outputs": [
    {
     "data": {
      "text/plain": [
       "BOULDER PD                        15417\n",
       "BOULDER COUNTY SHERIFFS OFFICE     3406\n",
       "UNIVERSITY OF COLORADO              782\n",
       "LONGMONT PD                         387\n",
       "JAIL MITTS ONLY                     125\n",
       "LAFAYETTE PD                        106\n",
       "LOUISVILLE PD                        57\n",
       "NEDERLAND MARSHALS OFFICE            49\n",
       "COLORADO STATE PATROL                38\n",
       "ERIE PD                              10\n",
       "BOULDER COUNTY DRUG TASK FORCE        5\n",
       "OTHER                                 3\n",
       "PAROLE                                2\n",
       "STATE DIVISION OF WILDLIFE            1\n",
       "Name: Arresting Agency, dtype: int64"
      ]
     },
     "execution_count": 86,
     "metadata": {},
     "output_type": "execute_result"
    }
   ],
   "source": [
    "df[df.boulder_muni]['Arresting Agency'].value_counts()"
   ]
  },
  {
   "cell_type": "code",
   "execution_count": 89,
   "metadata": {
    "collapsed": false
   },
   "outputs": [
    {
     "data": {
      "text/plain": [
       "BOULDER MUNI TRESPASSING             1384\n",
       "BOULDER MUNI TRESPASS                 597\n",
       "BOULDER MUNI POSN,CONS                364\n",
       "BOULDER MUNI USE OF FIGHTING WORD     359\n",
       "BOULDER MUNI RESISTING ARREST         354\n",
       "BOULDER MUNI POSS/CONS ALCOHOL        297\n",
       "BOULDER MUNI OBSTRUCTION              275\n",
       "BOULDER MUNI CAMP W/O PERMISSION      187\n",
       "BOULDER MUNI POSS ALCOHOL PUBLIC      176\n",
       "BOULDER MUNI USE OF FIGHT WORDS       169\n",
       "BOULDER MUNI CONTEMPT OF COURT        165\n",
       "BOULDER MUNI PHYSICAL HARASSMENT      132\n",
       "BOULDER MUNI BRAWLING                 129\n",
       "BOULDER MUNI URINATING IN PUBLIC      120\n",
       "BOULDER MUNI POSS/CONS OF ALC         109\n",
       "BOULDER MUNI POSS/CONS OF ALCOHOL      96\n",
       "BOULDER MUNI OBSTRUCTING POLICE        95\n",
       "BOULDER MUNI CAMPING W/O CONSENT       93\n",
       "BOULDER MUNI LITTERING                 90\n",
       "BOULDER MUNI USE OF FIGHTING WRDS      85\n",
       "BOULDER MUNI THREAT BODILY INJURY      85\n",
       "BOULDER MUNI 3RD DEGREE ASSAULT        85\n",
       "BOULDER MUNI OBSTRUCTING               73\n",
       "BOULDER MUNI SMOKING PROHIBITED        69\n",
       "BOULDER MUNI POSS/CONS ALC IN PUB      62\n",
       "BOULDER MUNI 3RD DEG ASSAULT           61\n",
       "BOULDER MUNI UNLAWFUL CONDUCT          58\n",
       "BOULDER MUNI CAMP W/O CONSENT          56\n",
       "BOULDER MUNI POSS/CONSUMP ALCOHOL      54\n",
       "BOULDER MUNI FIGHTING WORDS            52\n",
       "                                     ... \n",
       "BOULDER MUNI SMOKING/CAMPING            1\n",
       "BOULDER MUNI AT BODILY INJURY           1\n",
       "BOULDER MUNI MITT:PONS,CONS,TRSP        1\n",
       "BOULDER MUNI POSS/CONS ALCH-MUNI        1\n",
       "BOULDER MUNI POSSESS ILLEGAL WEAP       1\n",
       "BOULDER MUNI POSS/ALCOHOL MINOR         1\n",
       "BOULDER MUNI REQUIRED EQUIP MISSI       1\n",
       "BOULDER MUNI POSS/ALC IN PUBLIC         1\n",
       "BOULDER MUNI TENTS PROH/MARIJ PBC       1\n",
       "BOULDER MUNI BOULDER MUNI-TRESPAS       1\n",
       "BOULDER MUNI BLDR/POS ALC PUBLIC        1\n",
       "BOULDER MUNI TRESPASS/OBSTRUCT PO       1\n",
       "BOULDER MUNI SOLICING/SELLING           1\n",
       "BOULDER MUNI MITT:EXPLD FIREWRKS        1\n",
       "BOULDER MUNI POSS/ CONS. ALCOHOL        1\n",
       "BOULDER MUNI POSON,CONS,ILL CAMPI       1\n",
       "BOULDER MUNI SMOKING IN PUBLIC AR       1\n",
       "BOULDER MUNI POSS CONSPT ALC            1\n",
       "BOULDER MUNI CONSUM ALC/MARIJU PB       1\n",
       "BOULDER MUNI POSSESSION                 1\n",
       "BOULDER MUNI OBST. GOVERN OPS           1\n",
       "BOULDER MUNI POSS ALCOHL MINORS         1\n",
       "BOULDER MUNI 3RD DEGREE ASSULT          1\n",
       "BOULDER MUNI OBSTRUCTING GOV'T          1\n",
       "BOULDER MUNI FRAUDELENT ID PROHIB       1\n",
       "BOULDER MUNI RESISTING ARRET            1\n",
       "BOULDER MUNI RESISTING/LITTERING        1\n",
       "BOULDER MUNI OBSTRUCING A PEACE O       1\n",
       "BOULDER MUNI MITT POSS ALC              1\n",
       "BOULDER MUNI DAMAGE PROPERTY OF O       1\n",
       "Name: Charge, Length: 2682, dtype: int64"
      ]
     },
     "execution_count": 89,
     "metadata": {},
     "output_type": "execute_result"
    }
   ],
   "source": [
    "df[df.boulder_muni & ~df.fta & ~df.ftc].Charge.value_counts()"
   ]
  },
  {
   "cell_type": "code",
   "execution_count": 98,
   "metadata": {
    "collapsed": false
   },
   "outputs": [
    {
     "data": {
      "text/plain": [
       "1095"
      ]
     },
     "execution_count": 98,
     "metadata": {},
     "output_type": "execute_result"
    }
   ],
   "source": [
    "df[df.camping & ~df.fta & ~df.ftc & ~df.Charge.str.contains(\"CAMPUS\")].Charge.value_counts()"
   ]
  },
  {
   "cell_type": "code",
   "execution_count": 71,
   "metadata": {
    "collapsed": true
   },
   "outputs": [],
   "source": [
    "df.to_csv('../data/all-bookings-with-charges.csv', index=False)"
   ]
  }
 ],
 "metadata": {
  "kernelspec": {
   "display_name": "Python 3",
   "language": "python",
   "name": "boulder-constituent"
  },
  "language_info": {
   "codemirror_mode": {
    "name": "ipython",
    "version": 3
   },
   "file_extension": ".py",
   "mimetype": "text/x-python",
   "name": "python",
   "nbconvert_exporter": "python",
   "pygments_lexer": "ipython3",
   "version": "3.5.2"
  }
 },
 "nbformat": 4,
 "nbformat_minor": 0
}
