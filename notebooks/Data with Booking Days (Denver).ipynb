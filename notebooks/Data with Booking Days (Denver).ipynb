{
 "cells": [
  {
   "cell_type": "code",
   "execution_count": 1,
   "metadata": {
    "collapsed": true
   },
   "outputs": [],
   "source": [
    "import pandas as pd\n",
    "\n",
    "df = pd.read_excel('../data/Copy of DU_Data_Request_04022018.xlsx')"
   ]
  },
  {
   "cell_type": "code",
   "execution_count": 23,
   "metadata": {
    "collapsed": false
   },
   "outputs": [
    {
     "data": {
      "text/html": [
       "<div>\n",
       "<style>\n",
       "    .dataframe thead tr:only-child th {\n",
       "        text-align: right;\n",
       "    }\n",
       "\n",
       "    .dataframe thead th {\n",
       "        text-align: left;\n",
       "    }\n",
       "\n",
       "    .dataframe tbody tr th {\n",
       "        vertical-align: top;\n",
       "    }\n",
       "</style>\n",
       "<table border=\"1\" class=\"dataframe\">\n",
       "  <thead>\n",
       "    <tr style=\"text-align: right;\">\n",
       "      <th></th>\n",
       "      <th>CD</th>\n",
       "      <th>OFFENDER_NAME</th>\n",
       "      <th>BIRTH_DATE</th>\n",
       "      <th>AGE(Cuurent)</th>\n",
       "      <th>BOOKING_NO</th>\n",
       "      <th>ARREST_LOCATION</th>\n",
       "      <th>OFFENDER_ADDRESS_INFORMATION</th>\n",
       "      <th>OFFENDER_ADDRESS_CITY_NAME</th>\n",
       "      <th>OFFENDER_ADDRESS_PROV_STATE_CODE</th>\n",
       "      <th>BOOKING_BEGIN_DATE</th>\n",
       "      <th>BOOKING_END_DATE</th>\n",
       "      <th>GENDER</th>\n",
       "      <th>RACE</th>\n",
       "      <th>ARREST_AGENCY</th>\n",
       "      <th>ARREST_DATE</th>\n",
       "      <th>CASE_INFO_NUMBER</th>\n",
       "      <th>OFFEN.DESCRIPTION (Check on DU Violations)</th>\n",
       "      <th>OFFENCE_DESCRIPTION/CASE</th>\n",
       "      <th>booking_days</th>\n",
       "      <th>trespass</th>\n",
       "      <th>only_trespass</th>\n",
       "    </tr>\n",
       "  </thead>\n",
       "  <tbody>\n",
       "    <tr>\n",
       "      <th>0</th>\n",
       "      <td>48139</td>\n",
       "      <td>RIVERA,FRANK</td>\n",
       "      <td>1938-12-28</td>\n",
       "      <td>79</td>\n",
       "      <td>2013-141256</td>\n",
       "      <td>303 N Broadway</td>\n",
       "      <td></td>\n",
       "      <td>NaN</td>\n",
       "      <td>CO</td>\n",
       "      <td>2013-05-12</td>\n",
       "      <td>2013-08-28</td>\n",
       "      <td>Male</td>\n",
       "      <td>Hispanic</td>\n",
       "      <td>DPD</td>\n",
       "      <td>2013-05-12</td>\n",
       "      <td>13GS001602</td>\n",
       "      <td>38-115 ~ TRESPASS</td>\n",
       "      <td>38-115 ~ Trespass</td>\n",
       "      <td>108.0</td>\n",
       "      <td>True</td>\n",
       "      <td>True</td>\n",
       "    </tr>\n",
       "    <tr>\n",
       "      <th>1</th>\n",
       "      <td>48139</td>\n",
       "      <td>RIVERA,FRANK RALPH</td>\n",
       "      <td>1938-12-28</td>\n",
       "      <td>79</td>\n",
       "      <td>2015-210581</td>\n",
       "      <td>120 n Broadway</td>\n",
       "      <td></td>\n",
       "      <td>NaN</td>\n",
       "      <td>CO</td>\n",
       "      <td>2015-04-20</td>\n",
       "      <td>2015-08-24</td>\n",
       "      <td>Male</td>\n",
       "      <td>Hispanic</td>\n",
       "      <td>DPD</td>\n",
       "      <td>2015-04-20</td>\n",
       "      <td>15GS005130</td>\n",
       "      <td>38-115 ~ TRESPASS</td>\n",
       "      <td>12-47-901(1)(h)(i) ~ Alcohol-Consume in Public...</td>\n",
       "      <td>126.0</td>\n",
       "      <td>True</td>\n",
       "      <td>False</td>\n",
       "    </tr>\n",
       "    <tr>\n",
       "      <th>2</th>\n",
       "      <td>143847</td>\n",
       "      <td>MOORE,STANLEY LEE</td>\n",
       "      <td>1949-04-23</td>\n",
       "      <td>68</td>\n",
       "      <td>2013-136035</td>\n",
       "      <td>1500 BLK BROADWAY</td>\n",
       "      <td>No fixed address</td>\n",
       "      <td>NaN</td>\n",
       "      <td>CO</td>\n",
       "      <td>2013-03-20</td>\n",
       "      <td>2013-03-23</td>\n",
       "      <td>Male</td>\n",
       "      <td>Black</td>\n",
       "      <td>DPD</td>\n",
       "      <td>2013-03-20</td>\n",
       "      <td>13GS390423</td>\n",
       "      <td>38-115 ~ TRESPASS</td>\n",
       "      <td>12-47-901 ~ Public Consumption Of Alcohol,38-1...</td>\n",
       "      <td>3.0</td>\n",
       "      <td>True</td>\n",
       "      <td>False</td>\n",
       "    </tr>\n",
       "    <tr>\n",
       "      <th>3</th>\n",
       "      <td>160304</td>\n",
       "      <td>THOMAS,JASON</td>\n",
       "      <td>1952-06-20</td>\n",
       "      <td>65</td>\n",
       "      <td>2013-140874</td>\n",
       "      <td>750 16TH ST</td>\n",
       "      <td>3435 STEELE ST</td>\n",
       "      <td>NaN</td>\n",
       "      <td>CO</td>\n",
       "      <td>2013-05-08</td>\n",
       "      <td>2013-05-16</td>\n",
       "      <td>Male</td>\n",
       "      <td>Black</td>\n",
       "      <td>DPD</td>\n",
       "      <td>2013-05-08</td>\n",
       "      <td>13GS001440</td>\n",
       "      <td>38-115 ~ TRESPASS</td>\n",
       "      <td>38-115 ~ Trespass</td>\n",
       "      <td>8.0</td>\n",
       "      <td>True</td>\n",
       "      <td>True</td>\n",
       "    </tr>\n",
       "    <tr>\n",
       "      <th>4</th>\n",
       "      <td>160304</td>\n",
       "      <td>THOMAS,JASON ISAAC</td>\n",
       "      <td>1952-06-20</td>\n",
       "      <td>65</td>\n",
       "      <td>2013-136770</td>\n",
       "      <td>6200 E. COLFAX AVE</td>\n",
       "      <td>3435 STEELE ST</td>\n",
       "      <td>NaN</td>\n",
       "      <td>CO</td>\n",
       "      <td>2013-03-28</td>\n",
       "      <td>2013-04-13</td>\n",
       "      <td>Male</td>\n",
       "      <td>Black</td>\n",
       "      <td>DPD</td>\n",
       "      <td>2013-03-28</td>\n",
       "      <td>13GS345362</td>\n",
       "      <td>38-115 ~ TRESPASS</td>\n",
       "      <td>38-115 ~ Trespass,38-51.5 ~ Shoplifting</td>\n",
       "      <td>16.0</td>\n",
       "      <td>True</td>\n",
       "      <td>False</td>\n",
       "    </tr>\n",
       "  </tbody>\n",
       "</table>\n",
       "</div>"
      ],
      "text/plain": [
       "       CD       OFFENDER_NAME BIRTH_DATE  AGE(Cuurent)   BOOKING_NO  \\\n",
       "0   48139       RIVERA,FRANK  1938-12-28            79  2013-141256   \n",
       "1   48139  RIVERA,FRANK RALPH 1938-12-28            79  2015-210581   \n",
       "2  143847   MOORE,STANLEY LEE 1949-04-23            68  2013-136035   \n",
       "3  160304       THOMAS,JASON  1952-06-20            65  2013-140874   \n",
       "4  160304  THOMAS,JASON ISAAC 1952-06-20            65  2013-136770   \n",
       "\n",
       "      ARREST_LOCATION OFFENDER_ADDRESS_INFORMATION OFFENDER_ADDRESS_CITY_NAME  \\\n",
       "0      303 N Broadway                                                     NaN   \n",
       "1      120 n Broadway                                                     NaN   \n",
       "2   1500 BLK BROADWAY             No fixed address                        NaN   \n",
       "3         750 16TH ST              3435 STEELE ST                         NaN   \n",
       "4  6200 E. COLFAX AVE              3435 STEELE ST                         NaN   \n",
       "\n",
       "  OFFENDER_ADDRESS_PROV_STATE_CODE BOOKING_BEGIN_DATE BOOKING_END_DATE GENDER  \\\n",
       "0                               CO         2013-05-12       2013-08-28   Male   \n",
       "1                               CO         2015-04-20       2015-08-24   Male   \n",
       "2                               CO         2013-03-20       2013-03-23   Male   \n",
       "3                               CO         2013-05-08       2013-05-16   Male   \n",
       "4                               CO         2013-03-28       2013-04-13   Male   \n",
       "\n",
       "       RACE ARREST_AGENCY ARREST_DATE CASE_INFO_NUMBER  \\\n",
       "0  Hispanic           DPD  2013-05-12       13GS001602   \n",
       "1  Hispanic           DPD  2015-04-20       15GS005130   \n",
       "2     Black           DPD  2013-03-20       13GS390423   \n",
       "3     Black           DPD  2013-05-08       13GS001440   \n",
       "4     Black           DPD  2013-03-28       13GS345362   \n",
       "\n",
       "  OFFEN.DESCRIPTION (Check on DU Violations)  \\\n",
       "0                          38-115 ~ TRESPASS   \n",
       "1                          38-115 ~ TRESPASS   \n",
       "2                          38-115 ~ TRESPASS   \n",
       "3                          38-115 ~ TRESPASS   \n",
       "4                          38-115 ~ TRESPASS   \n",
       "\n",
       "                            OFFENCE_DESCRIPTION/CASE  booking_days  trespass  \\\n",
       "0                                  38-115 ~ Trespass         108.0      True   \n",
       "1  12-47-901(1)(h)(i) ~ Alcohol-Consume in Public...         126.0      True   \n",
       "2  12-47-901 ~ Public Consumption Of Alcohol,38-1...           3.0      True   \n",
       "3                                  38-115 ~ Trespass           8.0      True   \n",
       "4            38-115 ~ Trespass,38-51.5 ~ Shoplifting          16.0      True   \n",
       "\n",
       "   only_trespass  \n",
       "0           True  \n",
       "1          False  \n",
       "2          False  \n",
       "3           True  \n",
       "4          False  "
      ]
     },
     "execution_count": 23,
     "metadata": {},
     "output_type": "execute_result"
    }
   ],
   "source": [
    "pd.set_option('display.max_columns', 50)\n",
    "df.head()"
   ]
  },
  {
   "cell_type": "code",
   "execution_count": 51,
   "metadata": {
    "collapsed": false
   },
   "outputs": [
    {
     "data": {
      "text/plain": [
       "1396"
      ]
     },
     "execution_count": 51,
     "metadata": {},
     "output_type": "execute_result"
    }
   ],
   "source": [
    "df.shape[0]"
   ]
  },
  {
   "cell_type": "code",
   "execution_count": 50,
   "metadata": {
    "collapsed": false
   },
   "outputs": [
    {
     "data": {
      "text/plain": [
       "1060"
      ]
     },
     "execution_count": 50,
     "metadata": {},
     "output_type": "execute_result"
    }
   ],
   "source": [
    "df.groupby('CD')"
   ]
  },
  {
   "cell_type": "code",
   "execution_count": 88,
   "metadata": {
    "collapsed": false
   },
   "outputs": [],
   "source": [
    "df['num_charges'] = df['OFFENCE_DESCRIPTION/CASE'].str.extractall('(\\d-\\d*)').reset_index().groupby('level_0')['match'].count()"
   ]
  },
  {
   "cell_type": "code",
   "execution_count": 62,
   "metadata": {
    "collapsed": false
   },
   "outputs": [],
   "source": [
    "df['trespass'] = df['OFFENCE_DESCRIPTION/CASE'].str.contains('38-115 ~ Trespass')\n",
    "df['warrant'] = df['OFFENCE_DESCRIPTION/CASE'].str.upper().str.contains('WARRANT')\n",
    "df['disturbing'] = df['OFFENCE_DESCRIPTION/CASE'].str.contains('38-89')\n",
    "df['panhandling'] = df['OFFENCE_DESCRIPTION/CASE'].str.upper().str.contains('PANHANDLING') | df['OFFENCE_DESCRIPTION/CASE'].str.upper().str.contains('SOLICITING')"
   ]
  },
  {
   "cell_type": "code",
   "execution_count": 10,
   "metadata": {
    "collapsed": false
   },
   "outputs": [],
   "source": [
    "df['booking_days'] = df.apply(lambda row: (row.BOOKING_END_DATE - row.BOOKING_BEGIN_DATE).days, axis=1)"
   ]
  },
  {
   "cell_type": "code",
   "execution_count": 95,
   "metadata": {
    "collapsed": false
   },
   "outputs": [
    {
     "data": {
      "text/plain": [
       "disturbing\n",
       "False    16.233633\n",
       "True     12.522807\n",
       "Name: booking_days, dtype: float64"
      ]
     },
     "execution_count": 95,
     "metadata": {},
     "output_type": "execute_result"
    }
   ],
   "source": [
    "df[df['trespass'] & ~df['warrant']].groupby('disturbing').booking_days.mean()"
   ]
  },
  {
   "cell_type": "code",
   "execution_count": 66,
   "metadata": {
    "collapsed": true
   },
   "outputs": [],
   "source": [
    "df_no_warrant = df[~df.warrant]"
   ]
  },
  {
   "cell_type": "code",
   "execution_count": 11,
   "metadata": {
    "collapsed": false
   },
   "outputs": [
    {
     "data": {
      "text/plain": [
       "White                              721\n",
       "Black                              358\n",
       "Hispanic                           263\n",
       "American Indian, Alaskan Native     23\n",
       "Unknown                             18\n",
       "Asian / Pacific Islander            12\n",
       "Name: RACE, dtype: int64"
      ]
     },
     "execution_count": 11,
     "metadata": {},
     "output_type": "execute_result"
    }
   ],
   "source": [
    "df.RACE.value_counts()"
   ]
  },
  {
   "cell_type": "code",
   "execution_count": 33,
   "metadata": {
    "collapsed": false
   },
   "outputs": [
    {
     "data": {
      "text/plain": [
       "<matplotlib.axes._subplots.AxesSubplot at 0x7f7bcabccdd8>"
      ]
     },
     "execution_count": 33,
     "metadata": {},
     "output_type": "execute_result"
    },
    {
     "data": {
      "image/png": "[encoded data removed]",
      "text/plain": [
       "<matplotlib.figure.Figure at 0x7f7bcabc8cc0>"
      ]
     },
     "metadata": {},
     "output_type": "display_data"
    }
   ],
   "source": [
    "%matplotlib inline\n",
    "\n",
    "import matplotlib.pyplot as plt\n",
    "import seaborn as sns\n",
    "\n",
    "plt.figure(figsize=(20, 12))\n",
    "sns.boxplot(df_no_warrant.RACE, df_no_warrant.booking_days)"
   ]
  },
  {
   "cell_type": "code",
   "execution_count": 99,
   "metadata": {
    "collapsed": false
   },
   "outputs": [
    {
     "data": {
      "text/plain": [
       "<matplotlib.axes._subplots.AxesSubplot at 0x7f7bdb5f6b70>"
      ]
     },
     "execution_count": 99,
     "metadata": {},
     "output_type": "execute_result"
    },
    {
     "data": {
      "image/png": "[encoded data removed]",
      "text/plain": [
       "<matplotlib.figure.Figure at 0x7f7bdb659898>"
      ]
     },
     "metadata": {},
     "output_type": "display_data"
    }
   ],
   "source": [
    "sns.regplot(df[df.trespass & ~df.warrant].num_charges, df[df.trespass & ~df.warrant].booking_days)"
   ]
  },
  {
   "cell_type": "code",
   "execution_count": 111,
   "metadata": {
    "collapsed": false
   },
   "outputs": [
    {
     "data": {
      "text/plain": [
       "1064"
      ]
     },
     "execution_count": 111,
     "metadata": {},
     "output_type": "execute_result"
    }
   ],
   "source": [
    "df[df.trespass & ~df.warrant ].shape[0]"
   ]
  },
  {
   "cell_type": "code",
   "execution_count": 108,
   "metadata": {
    "collapsed": false
   },
   "outputs": [
    {
     "data": {
      "text/plain": [
       "(array([ 297.,   50.,   25.,    7.,   27.,   14.,   13.,    3.,   18.,\n",
       "           1.,    2.,    6.,    7.,    2.,    6.,    3.,    0.,    1.,\n",
       "           1.,    3.,    2.,    2.,    2.,    2.,    4.,    0.,    0.,\n",
       "           3.,    0.,    0.,    1.,    0.,    1.,    0.,    1.,    0.,\n",
       "           0.,    0.,    0.,    1.,    0.,    0.,    0.,    0.,    0.,\n",
       "           0.,    0.,    0.,    0.,    1.]),\n",
       " array([   0.  ,    4.36,    8.72,   13.08,   17.44,   21.8 ,   26.16,\n",
       "          30.52,   34.88,   39.24,   43.6 ,   47.96,   52.32,   56.68,\n",
       "          61.04,   65.4 ,   69.76,   74.12,   78.48,   82.84,   87.2 ,\n",
       "          91.56,   95.92,  100.28,  104.64,  109.  ,  113.36,  117.72,\n",
       "         122.08,  126.44,  130.8 ,  135.16,  139.52,  143.88,  148.24,\n",
       "         152.6 ,  156.96,  161.32,  165.68,  170.04,  174.4 ,  178.76,\n",
       "         183.12,  187.48,  191.84,  196.2 ,  200.56,  204.92,  209.28,\n",
       "         213.64,  218.  ]),\n",
       " <a list of 50 Patch objects>)"
      ]
     },
     "execution_count": 108,
     "metadata": {},
     "output_type": "execute_result"
    },
    {
     "data": {
      "image/png": "[encoded data removed]",
      "text/plain": [
       "<matplotlib.figure.Figure at 0x7f7bc8876438>"
      ]
     },
     "metadata": {},
     "output_type": "display_data"
    }
   ],
   "source": [
    "plt.suptitle('Histogram of booking days for arrests with only trespass, no outstanding warrant')\n",
    "plt.xlabel('Booking days')\n",
    "plt.ylabel('Count')\n",
    "plt.hist(df[df.trespass & ~df.warrant & (df.num_charges == 1)].booking_days, bins=50)"
   ]
  },
  {
   "cell_type": "code",
   "execution_count": 117,
   "metadata": {
    "collapsed": false
   },
   "outputs": [
    {
     "data": {
      "text/plain": [
       "count    506.000000\n",
       "mean      14.638340\n",
       "std       27.279877\n",
       "min        0.000000\n",
       "25%        1.000000\n",
       "50%        3.000000\n",
       "75%       17.750000\n",
       "90%       44.000000\n",
       "max      218.000000\n",
       "Name: booking_days, dtype: float64"
      ]
     },
     "execution_count": 117,
     "metadata": {},
     "output_type": "execute_result"
    }
   ],
   "source": [
    "df[df.trespass & ~df.warrant & (df.num_charges == 1)].booking_days.describe(percentiles=[.25, .5, .75, .9])"
   ]
  },
  {
   "cell_type": "code",
   "execution_count": 121,
   "metadata": {
    "collapsed": false
   },
   "outputs": [
    {
     "data": {
      "text/plain": [
       "<matplotlib.axes._subplots.AxesSubplot at 0x7f7bc8721400>"
      ]
     },
     "execution_count": 121,
     "metadata": {},
     "output_type": "execute_result"
    },
    {
     "data": {
      "image/png": "[encoded data removed]",
      "text/plain": [
       "<matplotlib.figure.Figure at 0x7f7bc8724160>"
      ]
     },
     "metadata": {},
     "output_type": "display_data"
    }
   ],
   "source": [
    "plt.suptitle('Total charges for trespass bookings')\n",
    "plt.xlabel('Charges')\n",
    "plt.ylabel('Counts')\n",
    "df[df.trespass & ~df.warrant].num_charges.value_counts().plot(kind='bar')"
   ]
  },
  {
   "cell_type": "code",
   "execution_count": 20,
   "metadata": {
    "collapsed": false
   },
   "outputs": [
    {
     "name": "stderr",
     "output_type": "stream",
     "text": [
      "/usr/local/lib/python2.7/dist-packages/ipykernel/__main__.py:3: RuntimeWarning: divide by zero encountered in log10\n",
      "  app.launch_new_instance()\n"
     ]
    },
    {
     "data": {
      "text/plain": [
       "<matplotlib.axes._subplots.AxesSubplot at 0x7f7bcac31c50>"
      ]
     },
     "execution_count": 20,
     "metadata": {},
     "output_type": "execute_result"
    },
    {
     "data": {
      "image/png": "[encoded data removed]",
      "text/plain": [
       "<matplotlib.figure.Figure at 0x7f7bcac8ec88>"
      ]
     },
     "metadata": {},
     "output_type": "display_data"
    }
   ],
   "source": [
    "import numpy as np\n",
    "\n",
    "sns.boxplot(df[df.trespass].only_trespass, np.log10(df.booking_days))"
   ]
  },
  {
   "cell_type": "code",
   "execution_count": 21,
   "metadata": {
    "collapsed": false
   },
   "outputs": [
    {
     "data": {
      "text/plain": [
       "count    1128.000000\n",
       "mean       17.540780\n",
       "std        35.854484\n",
       "min         0.000000\n",
       "25%         1.000000\n",
       "50%         3.000000\n",
       "75%        18.000000\n",
       "max       373.000000\n",
       "Name: booking_days, dtype: float64"
      ]
     },
     "execution_count": 21,
     "metadata": {},
     "output_type": "execute_result"
    }
   ],
   "source": [
    "df[df.trespass].booking_days.describe()"
   ]
  },
  {
   "cell_type": "code",
   "execution_count": 25,
   "metadata": {
    "collapsed": false
   },
   "outputs": [
    {
     "data": {
      "text/plain": [
       "'38-115 ~ Trespass,38-51.5 ~ Shoplifting,WARRANT ARREST'"
      ]
     },
     "execution_count": 25,
     "metadata": {},
     "output_type": "execute_result"
    }
   ],
   "source": [
    "df[df.booking_days == 373].iloc[0]['OFFENCE_DESCRIPTION/CASE']"
   ]
  },
  {
   "cell_type": "code",
   "execution_count": 6,
   "metadata": {
    "collapsed": false
   },
   "outputs": [
    {
     "data": {
      "text/plain": [
       "38-115 ~ TRESPASS                                           1129\n",
       "38-99 ~ URINATING IN PUBLIC                                   86\n",
       "39-3 ~ PARK CURFEW                                            59\n",
       "38-132 ~ AGGR PANHANDLING                                     47\n",
       "54-548 ~ SOLICITING ON MEDIAN PROHIBITED                      24\n",
       "38-123(B)(10) ~ PANHANDLING WITHIN 20' REST/BAR               16\n",
       "38-86(A) ~ OBSTRUCTION OF STREETS OR PASSAGEWAYS              13\n",
       "38-86 ~ LOITERING                                              6\n",
       "38-132(B)(9) ~ PANHANDLING AFTER DARK                          4\n",
       "38-132(B)(6) ~ PANHANDLING ON/NEAR PUBLIC TRANSPORTATION       4\n",
       "38-132(B)(2) ~ PANHANDLING PRIVATE PROPERTY                    3\n",
       "38-132(B)(7) ~ PANHANDLING WITHIN 6' OF ENTRANCE               2\n",
       "54-459(A) ~ PARK/STOP IN ROADWAY                               1\n",
       "38-132(B)(8) ~ PANHANDLING WITHIN 20' OF PAYPHONE              1\n",
       "38-86(1)(B) ~ FAILURE TO OBEY ORDER/OBSTRUCT PASSAGE           1\n",
       "Name: OFFEN.DESCRIPTION (Check on DU Violations), dtype: int64"
      ]
     },
     "execution_count": 6,
     "metadata": {},
     "output_type": "execute_result"
    }
   ],
   "source": [
    "df['OFFEN.DESCRIPTION (Check on DU Violations)'].value_counts()"
   ]
  },
  {
   "cell_type": "code",
   "execution_count": 137,
   "metadata": {
    "collapsed": true
   },
   "outputs": [],
   "source": [
    "df['year'] = df.ARREST_DATE.apply(lambda x: x.year)\n",
    "df['month'] = df.ARREST_DATE.apply(lambda x: x.month)"
   ]
  },
  {
   "cell_type": "code",
   "execution_count": 139,
   "metadata": {
    "collapsed": false
   },
   "outputs": [
    {
     "data": {
      "text/plain": [
       "<matplotlib.axes._subplots.AxesSubplot at 0x7f7bc8187ba8>"
      ]
     },
     "execution_count": 139,
     "metadata": {},
     "output_type": "execute_result"
    },
    {
     "data": {
      "image/png": "[encoded data removed]",
      "text/plain": [
       "<matplotlib.figure.Figure at 0x7f7bc825b400>"
      ]
     },
     "metadata": {},
     "output_type": "display_data"
    }
   ],
   "source": [
    "plt.suptitle('Total bookings per month')\n",
    "df[~df.warrant].groupby(['year', 'month'])['booking_days'].count().plot()"
   ]
  }
 ],
 "metadata": {
  "kernelspec": {
   "display_name": "Python 3",
   "language": "python",
   "name": "boulder-constituent"
  },
  "language_info": {
   "codemirror_mode": {
    "name": "ipython",
    "version": 3
   },
   "file_extension": ".py",
   "mimetype": "text/x-python",
   "name": "python",
   "nbconvert_exporter": "python",
   "pygments_lexer": "ipython3",
   "version": "3.5.2"
  }
 },
 "nbformat": 4,
 "nbformat_minor": 0
}
